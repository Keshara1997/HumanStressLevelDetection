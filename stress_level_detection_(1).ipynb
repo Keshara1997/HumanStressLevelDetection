{
  "metadata": {
    "kernelspec": {
      "language": "python",
      "display_name": "Python 3",
      "name": "python3"
    },
    "language_info": {
      "name": "python",
      "version": "3.7.12",
      "mimetype": "text/x-python",
      "codemirror_mode": {
        "name": "ipython",
        "version": 3
      },
      "pygments_lexer": "ipython3",
      "nbconvert_exporter": "python",
      "file_extension": ".py"
    },
    "colab": {
      "provenance": []
    }
  },
  "nbformat_minor": 0,
  "nbformat": 4,
  "cells": [
    {
      "cell_type": "markdown",
      "source": [
        "# ***STRESS LYSIS***"
      ],
      "metadata": {
        "_uuid": "8f2839f25d086af736a60e9eeb907d3b93b6e0e5",
        "_cell_guid": "b1076dfc-b9ad-4769-8c92-a6c4dae69d19",
        "id": "rq8dpdpfDbJ1"
      }
    },
    {
      "cell_type": "markdown",
      "source": [
        "***ABOUT THE DATA & THE NOTEBOOK***"
      ],
      "metadata": {
        "id": "_vk_b6e6DbJ8"
      }
    },
    {
      "cell_type": "markdown",
      "source": [
        "**Based on the human’s physical activity, the stress levels of the human being are detected and analyzed. A dataset of 2001 samples is provided for human body humidity, body temperature and the number of steps taken by the user. Three different classifications of stress are analyzed such as low stress, normal stress, and high stress.** \n",
        "\n",
        "**In this notebook, I've analyzed the features of the dataset, trained the model and finally deployed it too.**\n",
        "\n",
        "**HIT THE UPVOTE 🔼**"
      ],
      "metadata": {
        "id": "Ip3gsiuTDbJ8"
      }
    },
    {
      "cell_type": "code",
      "source": [
        "from google.colab import drive\n",
        "drive.mount('/content/drive')"
      ],
      "metadata": {
        "colab": {
          "base_uri": "https://localhost:8080/"
        },
        "id": "otBNHTx_ES2F",
        "outputId": "1c46d045-8b21-45b2-fc05-ab44383d6556"
      },
      "execution_count": 2,
      "outputs": [
        {
          "output_type": "stream",
          "name": "stdout",
          "text": [
            "Mounted at /content/drive\n"
          ]
        }
      ]
    },
    {
      "cell_type": "code",
      "source": [
        "# File - Stress_Lysis.ipynb"
      ],
      "metadata": {
        "execution": {
          "iopub.status.busy": "2023-05-24T08:30:58.491906Z",
          "iopub.execute_input": "2023-05-24T08:30:58.492407Z",
          "iopub.status.idle": "2023-05-24T08:30:58.515070Z",
          "shell.execute_reply.started": "2023-05-24T08:30:58.492312Z",
          "shell.execute_reply": "2023-05-24T08:30:58.514186Z"
        },
        "trusted": true,
        "id": "W-Sy9gk6DbJ9"
      },
      "execution_count": 1,
      "outputs": []
    },
    {
      "cell_type": "markdown",
      "source": [
        "# ***IMPORTS***"
      ],
      "metadata": {
        "id": "OloglCMUDbJ_"
      }
    },
    {
      "cell_type": "code",
      "source": [
        "import numpy as np \n",
        "import pandas as pd\n",
        "import matplotlib.pyplot as plt\n",
        "import seaborn as sns\n",
        "%matplotlib inline\n",
        "\n",
        "import os\n",
        "for dirname, _, filenames in os.walk('/content/drive'):\n",
        "    for filename in filenames:\n",
        "        print(os.path.join(dirname, filename))"
      ],
      "metadata": {
        "execution": {
          "iopub.status.busy": "2023-05-24T08:30:58.520810Z",
          "iopub.execute_input": "2023-05-24T08:30:58.521382Z",
          "iopub.status.idle": "2023-05-24T08:30:59.568955Z",
          "shell.execute_reply.started": "2023-05-24T08:30:58.521339Z",
          "shell.execute_reply": "2023-05-24T08:30:59.567581Z"
        },
        "trusted": true,
        "colab": {
          "base_uri": "https://localhost:8080/"
        },
        "id": "WQ-JHZcsDbKA",
        "outputId": "93902f17-35e3-485b-e07f-7c9afc59dd44"
      },
      "execution_count": 3,
      "outputs": [
        {
          "output_type": "stream",
          "name": "stdout",
          "text": [
            "/content/drive/MyDrive/Getting started.pdf\n",
            "/content/drive/MyDrive/Composer-Setup.exe\n",
            "/content/drive/MyDrive/keshara.pdf\n",
            "/content/drive/MyDrive/New folder.zip\n",
            "/content/drive/MyDrive/triangle-pos.zip\n",
            "/content/drive/MyDrive/22_23-J-33 /22_23-J-33.mp4\n",
            "/content/drive/MyDrive/dataset/Screenshot_20230128_085504.png\n",
            "/content/drive/MyDrive/dataset/Screenshot_20230128_085516.png\n",
            "/content/drive/MyDrive/dataset/Screenshot_20230128_085523.png\n",
            "/content/drive/MyDrive/dataset/Screenshot_20230128_085529.png\n",
            "/content/drive/MyDrive/dataset/Screenshot_20230128_085533.png\n",
            "/content/drive/MyDrive/dataset/Screenshot_20230128_085539.png\n",
            "/content/drive/MyDrive/dataset/Screenshot_20230128_085544.png\n",
            "/content/drive/MyDrive/dataset/Screenshot_20230128_085549.png\n",
            "/content/drive/MyDrive/dataset/Screenshot_20230128_085554.png\n",
            "/content/drive/MyDrive/dataset/Screenshot_20230128_085601.png\n",
            "/content/drive/MyDrive/dataset/Screenshot_20230128_085606.png\n",
            "/content/drive/MyDrive/dataset/Screenshot_20230128_085614.png\n",
            "/content/drive/MyDrive/dataset/Screenshot_20230128_085619.png\n",
            "/content/drive/MyDrive/dataset/Screenshot_20230128_102256.png\n",
            "/content/drive/MyDrive/dataset/Screenshot_20230128_102303.png\n",
            "/content/drive/MyDrive/dataset/Screenshot_20230128_102311.png\n",
            "/content/drive/MyDrive/dataset/Screenshot_20230128_102316.png\n",
            "/content/drive/MyDrive/dataset/Screenshot_20230128_102324.png\n",
            "/content/drive/MyDrive/dataset/Screenshot_20230128_102327.png\n",
            "/content/drive/MyDrive/dataset/Screenshot_20230128_102331.png\n",
            "/content/drive/MyDrive/dataset/Screenshot_20230128_102340.png\n",
            "/content/drive/MyDrive/dataset/Screenshot_20230128_102347.png\n",
            "/content/drive/MyDrive/dataset/Screenshot_20230128_102400.png\n",
            "/content/drive/MyDrive/dataset/Screenshot_20230128_102406.png\n",
            "/content/drive/MyDrive/dataset/Screenshot_20230128_102414.png\n",
            "/content/drive/MyDrive/dataset/Screenshot_20230128_102417.png\n",
            "/content/drive/MyDrive/dataset/Screenshot_20230128_102422.png\n",
            "/content/drive/MyDrive/dataset/Screenshot_20230128_102428.png\n",
            "/content/drive/MyDrive/dataset/Screenshot_20230128_102433.png\n",
            "/content/drive/MyDrive/dataset/Screenshot_20230128_102441.png\n",
            "/content/drive/MyDrive/dataset/Screenshot_20230128_102445.png\n",
            "/content/drive/MyDrive/dataset/Screenshot_20230128_102453.png\n",
            "/content/drive/MyDrive/dataset/Screenshot_20230128_102458.png\n",
            "/content/drive/MyDrive/dataset/Screenshot_20230128_102508.png\n",
            "/content/drive/MyDrive/dataset/Screenshot_20230128_102511.png\n",
            "/content/drive/MyDrive/dataset/Screenshot_20230128_102514.png\n",
            "/content/drive/MyDrive/dataset/Screenshot_20230128_102535.png\n",
            "/content/drive/MyDrive/dataset/Screenshot_20230128_102541.png\n",
            "/content/drive/MyDrive/dataset/Screenshot_20230128_102547.png\n",
            "/content/drive/MyDrive/dataset/Screenshot_20230128_102552.png\n",
            "/content/drive/MyDrive/dataset/Screenshot_20230128_102558.png\n",
            "/content/drive/MyDrive/dataset/Screenshot_20230128_102603.png\n",
            "/content/drive/MyDrive/dataset/Screenshot_20230128_102606.png\n",
            "/content/drive/MyDrive/dataset/Screenshot_20230128_102611.png\n",
            "/content/drive/MyDrive/dataset/Screenshot_20230128_102620.png\n",
            "/content/drive/MyDrive/dataset/Screenshot_20230128_102628.png\n",
            "/content/drive/MyDrive/dataset/Screenshot_20230128_102634.png\n",
            "/content/drive/MyDrive/dataset/Screenshot_20230128_102639.png\n",
            "/content/drive/MyDrive/dataset/Screenshot_20230128_102643.png\n",
            "/content/drive/MyDrive/dataset/Screenshot_20230128_102652.png\n",
            "/content/drive/MyDrive/dataset/Screenshot_20230128_102656.png\n",
            "/content/drive/MyDrive/dataset/Screenshot_20230128_102701.png\n",
            "/content/drive/MyDrive/dataset/Screenshot_20230128_102705.png\n",
            "/content/drive/MyDrive/dataset/Screenshot_20230128_102712.png\n",
            "/content/drive/MyDrive/dataset/Screenshot_20230128_102716.png\n",
            "/content/drive/MyDrive/dataset/Screenshot_20230128_102724.png\n",
            "/content/drive/MyDrive/dataset/Screenshot_20230128_102727.png\n",
            "/content/drive/MyDrive/dataset/Screenshot_20230128_102746.png\n",
            "/content/drive/MyDrive/dataset/Screenshot_20230128_102749.png\n",
            "/content/drive/MyDrive/dataset/Screenshot_20230128_102757.png\n",
            "/content/drive/MyDrive/dataset/Screenshot_20230128_102806.png\n",
            "/content/drive/MyDrive/dataset/Screenshot_20230128_102810.png\n",
            "/content/drive/MyDrive/dataset/Screenshot_20230128_102823.png\n",
            "/content/drive/MyDrive/dataset/Screenshot_20230128_102827.png\n",
            "/content/drive/MyDrive/dataset/Screenshot_20230128_102845.png\n",
            "/content/drive/MyDrive/dataset/Screenshot_20230128_102851.png\n",
            "/content/drive/MyDrive/dataset/Screenshot_20230128_102855.png\n",
            "/content/drive/MyDrive/dataset/Screenshot_20230128_102905.png\n",
            "/content/drive/MyDrive/dataset/Screenshot_20230128_102913.png\n",
            "/content/drive/MyDrive/dataset/Screenshot_20230128_102918.png\n",
            "/content/drive/MyDrive/dataset/Screenshot_20230128_102922.png\n",
            "/content/drive/MyDrive/dataset/Screenshot_20230128_102928.png\n",
            "/content/drive/MyDrive/dataset/Screenshot_20230128_102932.png\n",
            "/content/drive/MyDrive/dataset/Screenshot_20230128_102938.png\n",
            "/content/drive/MyDrive/dataset/Screenshot_20230128_102941.png\n",
            "/content/drive/MyDrive/dataset/Screenshot_20230128_102952.png\n",
            "/content/drive/MyDrive/dataset/Screenshot_20230128_102958.png\n",
            "/content/drive/MyDrive/dataset/Screenshot_20230128_103009.png\n",
            "/content/drive/MyDrive/dataset/Screenshot_20230128_103014.png\n",
            "/content/drive/MyDrive/dataset/Screenshot_20230128_103018.png\n",
            "/content/drive/MyDrive/dataset/Screenshot_20230128_103042.png\n",
            "/content/drive/MyDrive/dataset/Screenshot_20230128_103047.png\n",
            "/content/drive/MyDrive/dataset/Screenshot_20230128_103058.png\n",
            "/content/drive/MyDrive/dataset/Screenshot_20230128_103105.png\n",
            "/content/drive/MyDrive/dataset/Screenshot_20230128_103109.png\n",
            "/content/drive/MyDrive/dataset/Screenshot_20230128_103115.png\n",
            "/content/drive/MyDrive/dataset/Screenshot_20230128_103235.png\n",
            "/content/drive/MyDrive/dataset/Screenshot_20230128_103247.png\n",
            "/content/drive/MyDrive/dataset/stress-level-detection (1).ipynb\n",
            "/content/drive/MyDrive/dataset/triangle-pos/public/js/app.js\n",
            "/content/drive/MyDrive/dataset/triangle-pos/node_modules/@babel/parser/lib/index.js.map\n",
            "/content/drive/MyDrive/dataset/triangle-pos/node_modules/@coreui/icons/fonts/CoreUI-Icons-Brand.svg\n",
            "/content/drive/MyDrive/dataset/triangle-pos/node_modules/@coreui/icons/sprites/brand.svg\n",
            "/content/drive/MyDrive/dataset/triangle-pos/node_modules/@coreui/icons/sprites/flag.svg\n",
            "/content/drive/MyDrive/Colab Notebooks/Untitled0.ipynb\n",
            "/content/drive/MyDrive/Colab Notebooks/Untitled\n",
            "/content/drive/MyDrive/Colab Notebooks/stressLevel.ipynb\n",
            "/content/drive/MyDrive/Colab Notebooks/predicting-stress-level.ipynb\n",
            "/content/drive/MyDrive/Colab Notebooks/human-stress-detection.ipynb\n",
            "/content/drive/MyDrive/Colab Notebooks/stress-level-detection.ipynb\n",
            "/content/drive/MyDrive/Colab Notebooks/stress-levelipynb\n",
            "/content/drive/MyDrive/Colab Notebooks/Stress-Lysis (1).csv\n",
            "/content/drive/MyDrive/Colab Notebooks/stress-level-detection (1).ipynb\n",
            "/content/drive/MyDrive/Dumidu/stressLevel/Stress-Lysis.csv\n",
            "/content/drive/MyDrive/Dumidu/stressLevelDATASET/Stress-Lysis.csv\n",
            "/content/drive/MyDrive/Dumidu/stressLevelDATASET/stress-level-detection.ipynb\n"
          ]
        }
      ]
    },
    {
      "cell_type": "markdown",
      "source": [
        "# ***DATA COLLECTION***"
      ],
      "metadata": {
        "id": "ijmSAeRGDbKA"
      }
    },
    {
      "cell_type": "markdown",
      "source": [
        "* ***Reading the Data Files***"
      ],
      "metadata": {
        "id": "KyS238KaDbKB"
      }
    },
    {
      "cell_type": "code",
      "source": [
        "data=pd.read_csv('/content/drive/MyDrive/Colab Notebooks/Stress-Lysis (1).csv')\n",
        "data.head()  # displays the first five rows of the dataframe"
      ],
      "metadata": {
        "execution": {
          "iopub.status.busy": "2023-05-24T08:30:59.571254Z",
          "iopub.execute_input": "2023-05-24T08:30:59.571767Z",
          "iopub.status.idle": "2023-05-24T08:30:59.609651Z",
          "shell.execute_reply.started": "2023-05-24T08:30:59.571719Z",
          "shell.execute_reply": "2023-05-24T08:30:59.608546Z"
        },
        "trusted": true,
        "colab": {
          "base_uri": "https://localhost:8080/",
          "height": 206
        },
        "id": "z40ILX7aDbKB",
        "outputId": "eadea2ea-da24-4005-d6b3-395db518c219"
      },
      "execution_count": 4,
      "outputs": [
        {
          "output_type": "execute_result",
          "data": {
            "text/plain": [
              "   Humidity  Temperature  Step_count  Stress_Level\n",
              "0     21.33        90.33         123             1\n",
              "1     21.41        90.41          93             1\n",
              "2     27.12        96.12         196             2\n",
              "3     27.64        96.64         177             2\n",
              "4     10.87        79.87          87             0"
            ],
            "text/html": [
              "\n",
              "  <div id=\"df-f198afcb-4ac7-4eff-bd24-8b3c9ea7f493\">\n",
              "    <div class=\"colab-df-container\">\n",
              "      <div>\n",
              "<style scoped>\n",
              "    .dataframe tbody tr th:only-of-type {\n",
              "        vertical-align: middle;\n",
              "    }\n",
              "\n",
              "    .dataframe tbody tr th {\n",
              "        vertical-align: top;\n",
              "    }\n",
              "\n",
              "    .dataframe thead th {\n",
              "        text-align: right;\n",
              "    }\n",
              "</style>\n",
              "<table border=\"1\" class=\"dataframe\">\n",
              "  <thead>\n",
              "    <tr style=\"text-align: right;\">\n",
              "      <th></th>\n",
              "      <th>Humidity</th>\n",
              "      <th>Temperature</th>\n",
              "      <th>Step_count</th>\n",
              "      <th>Stress_Level</th>\n",
              "    </tr>\n",
              "  </thead>\n",
              "  <tbody>\n",
              "    <tr>\n",
              "      <th>0</th>\n",
              "      <td>21.33</td>\n",
              "      <td>90.33</td>\n",
              "      <td>123</td>\n",
              "      <td>1</td>\n",
              "    </tr>\n",
              "    <tr>\n",
              "      <th>1</th>\n",
              "      <td>21.41</td>\n",
              "      <td>90.41</td>\n",
              "      <td>93</td>\n",
              "      <td>1</td>\n",
              "    </tr>\n",
              "    <tr>\n",
              "      <th>2</th>\n",
              "      <td>27.12</td>\n",
              "      <td>96.12</td>\n",
              "      <td>196</td>\n",
              "      <td>2</td>\n",
              "    </tr>\n",
              "    <tr>\n",
              "      <th>3</th>\n",
              "      <td>27.64</td>\n",
              "      <td>96.64</td>\n",
              "      <td>177</td>\n",
              "      <td>2</td>\n",
              "    </tr>\n",
              "    <tr>\n",
              "      <th>4</th>\n",
              "      <td>10.87</td>\n",
              "      <td>79.87</td>\n",
              "      <td>87</td>\n",
              "      <td>0</td>\n",
              "    </tr>\n",
              "  </tbody>\n",
              "</table>\n",
              "</div>\n",
              "      <button class=\"colab-df-convert\" onclick=\"convertToInteractive('df-f198afcb-4ac7-4eff-bd24-8b3c9ea7f493')\"\n",
              "              title=\"Convert this dataframe to an interactive table.\"\n",
              "              style=\"display:none;\">\n",
              "        \n",
              "  <svg xmlns=\"http://www.w3.org/2000/svg\" height=\"24px\"viewBox=\"0 0 24 24\"\n",
              "       width=\"24px\">\n",
              "    <path d=\"M0 0h24v24H0V0z\" fill=\"none\"/>\n",
              "    <path d=\"M18.56 5.44l.94 2.06.94-2.06 2.06-.94-2.06-.94-.94-2.06-.94 2.06-2.06.94zm-11 1L8.5 8.5l.94-2.06 2.06-.94-2.06-.94L8.5 2.5l-.94 2.06-2.06.94zm10 10l.94 2.06.94-2.06 2.06-.94-2.06-.94-.94-2.06-.94 2.06-2.06.94z\"/><path d=\"M17.41 7.96l-1.37-1.37c-.4-.4-.92-.59-1.43-.59-.52 0-1.04.2-1.43.59L10.3 9.45l-7.72 7.72c-.78.78-.78 2.05 0 2.83L4 21.41c.39.39.9.59 1.41.59.51 0 1.02-.2 1.41-.59l7.78-7.78 2.81-2.81c.8-.78.8-2.07 0-2.86zM5.41 20L4 18.59l7.72-7.72 1.47 1.35L5.41 20z\"/>\n",
              "  </svg>\n",
              "      </button>\n",
              "      \n",
              "  <style>\n",
              "    .colab-df-container {\n",
              "      display:flex;\n",
              "      flex-wrap:wrap;\n",
              "      gap: 12px;\n",
              "    }\n",
              "\n",
              "    .colab-df-convert {\n",
              "      background-color: #E8F0FE;\n",
              "      border: none;\n",
              "      border-radius: 50%;\n",
              "      cursor: pointer;\n",
              "      display: none;\n",
              "      fill: #1967D2;\n",
              "      height: 32px;\n",
              "      padding: 0 0 0 0;\n",
              "      width: 32px;\n",
              "    }\n",
              "\n",
              "    .colab-df-convert:hover {\n",
              "      background-color: #E2EBFA;\n",
              "      box-shadow: 0px 1px 2px rgba(60, 64, 67, 0.3), 0px 1px 3px 1px rgba(60, 64, 67, 0.15);\n",
              "      fill: #174EA6;\n",
              "    }\n",
              "\n",
              "    [theme=dark] .colab-df-convert {\n",
              "      background-color: #3B4455;\n",
              "      fill: #D2E3FC;\n",
              "    }\n",
              "\n",
              "    [theme=dark] .colab-df-convert:hover {\n",
              "      background-color: #434B5C;\n",
              "      box-shadow: 0px 1px 3px 1px rgba(0, 0, 0, 0.15);\n",
              "      filter: drop-shadow(0px 1px 2px rgba(0, 0, 0, 0.3));\n",
              "      fill: #FFFFFF;\n",
              "    }\n",
              "  </style>\n",
              "\n",
              "      <script>\n",
              "        const buttonEl =\n",
              "          document.querySelector('#df-f198afcb-4ac7-4eff-bd24-8b3c9ea7f493 button.colab-df-convert');\n",
              "        buttonEl.style.display =\n",
              "          google.colab.kernel.accessAllowed ? 'block' : 'none';\n",
              "\n",
              "        async function convertToInteractive(key) {\n",
              "          const element = document.querySelector('#df-f198afcb-4ac7-4eff-bd24-8b3c9ea7f493');\n",
              "          const dataTable =\n",
              "            await google.colab.kernel.invokeFunction('convertToInteractive',\n",
              "                                                     [key], {});\n",
              "          if (!dataTable) return;\n",
              "\n",
              "          const docLinkHtml = 'Like what you see? Visit the ' +\n",
              "            '<a target=\"_blank\" href=https://colab.research.google.com/notebooks/data_table.ipynb>data table notebook</a>'\n",
              "            + ' to learn more about interactive tables.';\n",
              "          element.innerHTML = '';\n",
              "          dataTable['output_type'] = 'display_data';\n",
              "          await google.colab.output.renderOutput(dataTable, element);\n",
              "          const docLink = document.createElement('div');\n",
              "          docLink.innerHTML = docLinkHtml;\n",
              "          element.appendChild(docLink);\n",
              "        }\n",
              "      </script>\n",
              "    </div>\n",
              "  </div>\n",
              "  "
            ]
          },
          "metadata": {},
          "execution_count": 4
        }
      ]
    },
    {
      "cell_type": "markdown",
      "source": [
        "# ***ANALYZING THE DATA***"
      ],
      "metadata": {
        "id": "AOytZU7kDbKC"
      }
    },
    {
      "cell_type": "code",
      "source": [
        "data.shape  # returns a tuple of array dimension that specifies the number of rows and columns"
      ],
      "metadata": {
        "execution": {
          "iopub.status.busy": "2023-05-24T08:30:59.610840Z",
          "iopub.execute_input": "2023-05-24T08:30:59.611193Z",
          "iopub.status.idle": "2023-05-24T08:30:59.619302Z",
          "shell.execute_reply.started": "2023-05-24T08:30:59.611161Z",
          "shell.execute_reply": "2023-05-24T08:30:59.618109Z"
        },
        "trusted": true,
        "colab": {
          "base_uri": "https://localhost:8080/"
        },
        "id": "aMUFOGXFDbKD",
        "outputId": "b5bd8b1b-1deb-4fc9-d397-934a8810c223"
      },
      "execution_count": 5,
      "outputs": [
        {
          "output_type": "execute_result",
          "data": {
            "text/plain": [
              "(2001, 4)"
            ]
          },
          "metadata": {},
          "execution_count": 5
        }
      ]
    },
    {
      "cell_type": "code",
      "source": [
        "data.info()  # prints the information about the dataframe"
      ],
      "metadata": {
        "execution": {
          "iopub.status.busy": "2023-05-24T08:30:59.622194Z",
          "iopub.execute_input": "2023-05-24T08:30:59.622541Z",
          "iopub.status.idle": "2023-05-24T08:30:59.647592Z",
          "shell.execute_reply.started": "2023-05-24T08:30:59.622511Z",
          "shell.execute_reply": "2023-05-24T08:30:59.646702Z"
        },
        "trusted": true,
        "colab": {
          "base_uri": "https://localhost:8080/"
        },
        "id": "jchoL-YwDbKD",
        "outputId": "d03a98cb-5345-4bbd-d61e-de5906fa9d48"
      },
      "execution_count": 6,
      "outputs": [
        {
          "output_type": "stream",
          "name": "stdout",
          "text": [
            "<class 'pandas.core.frame.DataFrame'>\n",
            "RangeIndex: 2001 entries, 0 to 2000\n",
            "Data columns (total 4 columns):\n",
            " #   Column        Non-Null Count  Dtype  \n",
            "---  ------        --------------  -----  \n",
            " 0   Humidity      2001 non-null   float64\n",
            " 1   Temperature   2001 non-null   float64\n",
            " 2   Step_count    2001 non-null   int64  \n",
            " 3   Stress_Level  2001 non-null   int64  \n",
            "dtypes: float64(2), int64(2)\n",
            "memory usage: 62.7 KB\n"
          ]
        }
      ]
    },
    {
      "cell_type": "code",
      "source": [
        "data.describe()  # returns the statistical summary of the data"
      ],
      "metadata": {
        "execution": {
          "iopub.status.busy": "2023-05-24T08:30:59.648485Z",
          "iopub.execute_input": "2023-05-24T08:30:59.648779Z",
          "iopub.status.idle": "2023-05-24T08:30:59.679800Z",
          "shell.execute_reply.started": "2023-05-24T08:30:59.648750Z",
          "shell.execute_reply": "2023-05-24T08:30:59.678881Z"
        },
        "trusted": true,
        "colab": {
          "base_uri": "https://localhost:8080/",
          "height": 300
        },
        "id": "bV2A-SfFDbKE",
        "outputId": "eb3551e3-27c6-496b-d8f4-f4a7cb19d451"
      },
      "execution_count": 7,
      "outputs": [
        {
          "output_type": "execute_result",
          "data": {
            "text/plain": [
              "          Humidity  Temperature   Step_count  Stress_Level\n",
              "count  2001.000000  2001.000000  2001.000000   2001.000000\n",
              "mean     20.000000    89.000000   100.141429      1.104448\n",
              "std       5.777833     5.777833    58.182948      0.771094\n",
              "min      10.000000    79.000000     0.000000      0.000000\n",
              "25%      15.000000    84.000000    50.000000      0.000000\n",
              "50%      20.000000    89.000000   101.000000      1.000000\n",
              "75%      25.000000    94.000000   150.000000      2.000000\n",
              "max      30.000000    99.000000   200.000000      2.000000"
            ],
            "text/html": [
              "\n",
              "  <div id=\"df-d1d9958d-0ffd-4d02-9c81-5e75653793fc\">\n",
              "    <div class=\"colab-df-container\">\n",
              "      <div>\n",
              "<style scoped>\n",
              "    .dataframe tbody tr th:only-of-type {\n",
              "        vertical-align: middle;\n",
              "    }\n",
              "\n",
              "    .dataframe tbody tr th {\n",
              "        vertical-align: top;\n",
              "    }\n",
              "\n",
              "    .dataframe thead th {\n",
              "        text-align: right;\n",
              "    }\n",
              "</style>\n",
              "<table border=\"1\" class=\"dataframe\">\n",
              "  <thead>\n",
              "    <tr style=\"text-align: right;\">\n",
              "      <th></th>\n",
              "      <th>Humidity</th>\n",
              "      <th>Temperature</th>\n",
              "      <th>Step_count</th>\n",
              "      <th>Stress_Level</th>\n",
              "    </tr>\n",
              "  </thead>\n",
              "  <tbody>\n",
              "    <tr>\n",
              "      <th>count</th>\n",
              "      <td>2001.000000</td>\n",
              "      <td>2001.000000</td>\n",
              "      <td>2001.000000</td>\n",
              "      <td>2001.000000</td>\n",
              "    </tr>\n",
              "    <tr>\n",
              "      <th>mean</th>\n",
              "      <td>20.000000</td>\n",
              "      <td>89.000000</td>\n",
              "      <td>100.141429</td>\n",
              "      <td>1.104448</td>\n",
              "    </tr>\n",
              "    <tr>\n",
              "      <th>std</th>\n",
              "      <td>5.777833</td>\n",
              "      <td>5.777833</td>\n",
              "      <td>58.182948</td>\n",
              "      <td>0.771094</td>\n",
              "    </tr>\n",
              "    <tr>\n",
              "      <th>min</th>\n",
              "      <td>10.000000</td>\n",
              "      <td>79.000000</td>\n",
              "      <td>0.000000</td>\n",
              "      <td>0.000000</td>\n",
              "    </tr>\n",
              "    <tr>\n",
              "      <th>25%</th>\n",
              "      <td>15.000000</td>\n",
              "      <td>84.000000</td>\n",
              "      <td>50.000000</td>\n",
              "      <td>0.000000</td>\n",
              "    </tr>\n",
              "    <tr>\n",
              "      <th>50%</th>\n",
              "      <td>20.000000</td>\n",
              "      <td>89.000000</td>\n",
              "      <td>101.000000</td>\n",
              "      <td>1.000000</td>\n",
              "    </tr>\n",
              "    <tr>\n",
              "      <th>75%</th>\n",
              "      <td>25.000000</td>\n",
              "      <td>94.000000</td>\n",
              "      <td>150.000000</td>\n",
              "      <td>2.000000</td>\n",
              "    </tr>\n",
              "    <tr>\n",
              "      <th>max</th>\n",
              "      <td>30.000000</td>\n",
              "      <td>99.000000</td>\n",
              "      <td>200.000000</td>\n",
              "      <td>2.000000</td>\n",
              "    </tr>\n",
              "  </tbody>\n",
              "</table>\n",
              "</div>\n",
              "      <button class=\"colab-df-convert\" onclick=\"convertToInteractive('df-d1d9958d-0ffd-4d02-9c81-5e75653793fc')\"\n",
              "              title=\"Convert this dataframe to an interactive table.\"\n",
              "              style=\"display:none;\">\n",
              "        \n",
              "  <svg xmlns=\"http://www.w3.org/2000/svg\" height=\"24px\"viewBox=\"0 0 24 24\"\n",
              "       width=\"24px\">\n",
              "    <path d=\"M0 0h24v24H0V0z\" fill=\"none\"/>\n",
              "    <path d=\"M18.56 5.44l.94 2.06.94-2.06 2.06-.94-2.06-.94-.94-2.06-.94 2.06-2.06.94zm-11 1L8.5 8.5l.94-2.06 2.06-.94-2.06-.94L8.5 2.5l-.94 2.06-2.06.94zm10 10l.94 2.06.94-2.06 2.06-.94-2.06-.94-.94-2.06-.94 2.06-2.06.94z\"/><path d=\"M17.41 7.96l-1.37-1.37c-.4-.4-.92-.59-1.43-.59-.52 0-1.04.2-1.43.59L10.3 9.45l-7.72 7.72c-.78.78-.78 2.05 0 2.83L4 21.41c.39.39.9.59 1.41.59.51 0 1.02-.2 1.41-.59l7.78-7.78 2.81-2.81c.8-.78.8-2.07 0-2.86zM5.41 20L4 18.59l7.72-7.72 1.47 1.35L5.41 20z\"/>\n",
              "  </svg>\n",
              "      </button>\n",
              "      \n",
              "  <style>\n",
              "    .colab-df-container {\n",
              "      display:flex;\n",
              "      flex-wrap:wrap;\n",
              "      gap: 12px;\n",
              "    }\n",
              "\n",
              "    .colab-df-convert {\n",
              "      background-color: #E8F0FE;\n",
              "      border: none;\n",
              "      border-radius: 50%;\n",
              "      cursor: pointer;\n",
              "      display: none;\n",
              "      fill: #1967D2;\n",
              "      height: 32px;\n",
              "      padding: 0 0 0 0;\n",
              "      width: 32px;\n",
              "    }\n",
              "\n",
              "    .colab-df-convert:hover {\n",
              "      background-color: #E2EBFA;\n",
              "      box-shadow: 0px 1px 2px rgba(60, 64, 67, 0.3), 0px 1px 3px 1px rgba(60, 64, 67, 0.15);\n",
              "      fill: #174EA6;\n",
              "    }\n",
              "\n",
              "    [theme=dark] .colab-df-convert {\n",
              "      background-color: #3B4455;\n",
              "      fill: #D2E3FC;\n",
              "    }\n",
              "\n",
              "    [theme=dark] .colab-df-convert:hover {\n",
              "      background-color: #434B5C;\n",
              "      box-shadow: 0px 1px 3px 1px rgba(0, 0, 0, 0.15);\n",
              "      filter: drop-shadow(0px 1px 2px rgba(0, 0, 0, 0.3));\n",
              "      fill: #FFFFFF;\n",
              "    }\n",
              "  </style>\n",
              "\n",
              "      <script>\n",
              "        const buttonEl =\n",
              "          document.querySelector('#df-d1d9958d-0ffd-4d02-9c81-5e75653793fc button.colab-df-convert');\n",
              "        buttonEl.style.display =\n",
              "          google.colab.kernel.accessAllowed ? 'block' : 'none';\n",
              "\n",
              "        async function convertToInteractive(key) {\n",
              "          const element = document.querySelector('#df-d1d9958d-0ffd-4d02-9c81-5e75653793fc');\n",
              "          const dataTable =\n",
              "            await google.colab.kernel.invokeFunction('convertToInteractive',\n",
              "                                                     [key], {});\n",
              "          if (!dataTable) return;\n",
              "\n",
              "          const docLinkHtml = 'Like what you see? Visit the ' +\n",
              "            '<a target=\"_blank\" href=https://colab.research.google.com/notebooks/data_table.ipynb>data table notebook</a>'\n",
              "            + ' to learn more about interactive tables.';\n",
              "          element.innerHTML = '';\n",
              "          dataTable['output_type'] = 'display_data';\n",
              "          await google.colab.output.renderOutput(dataTable, element);\n",
              "          const docLink = document.createElement('div');\n",
              "          docLink.innerHTML = docLinkHtml;\n",
              "          element.appendChild(docLink);\n",
              "        }\n",
              "      </script>\n",
              "    </div>\n",
              "  </div>\n",
              "  "
            ]
          },
          "metadata": {},
          "execution_count": 7
        }
      ]
    },
    {
      "cell_type": "markdown",
      "source": [
        "# ***DATA CLEANING***"
      ],
      "metadata": {
        "id": "33wzkuIsDbKE"
      }
    },
    {
      "cell_type": "markdown",
      "source": [
        "***STEPS:***"
      ],
      "metadata": {
        "id": "luN4t68IDbKE"
      }
    },
    {
      "cell_type": "markdown",
      "source": [
        "***1. Analyze the numerical and categorical features, and convert categorical feature into numerical.***"
      ],
      "metadata": {
        "id": "WRC61fM-DbKF"
      }
    },
    {
      "cell_type": "markdown",
      "source": [
        "Stress Level\n",
        "0 - Low stress\n",
        "1 - Normal stress\n",
        "2 - High Stress"
      ],
      "metadata": {
        "id": "LNM8OdfEDbKF"
      }
    },
    {
      "cell_type": "code",
      "source": [
        "data['Stress_Level'].unique()"
      ],
      "metadata": {
        "execution": {
          "iopub.status.busy": "2023-05-24T08:30:59.681983Z",
          "iopub.execute_input": "2023-05-24T08:30:59.682746Z",
          "iopub.status.idle": "2023-05-24T08:30:59.689184Z",
          "shell.execute_reply.started": "2023-05-24T08:30:59.682700Z",
          "shell.execute_reply": "2023-05-24T08:30:59.688239Z"
        },
        "trusted": true,
        "colab": {
          "base_uri": "https://localhost:8080/"
        },
        "id": "ylKgnoqoDbKF",
        "outputId": "9781c197-ed87-46f8-91eb-603107cf7cd2"
      },
      "execution_count": 8,
      "outputs": [
        {
          "output_type": "execute_result",
          "data": {
            "text/plain": [
              "array([1, 2, 0])"
            ]
          },
          "metadata": {},
          "execution_count": 8
        }
      ]
    },
    {
      "cell_type": "markdown",
      "source": [
        "***2. Check for missing values and handle them.***"
      ],
      "metadata": {
        "id": "nN-gyfJYDbKF"
      }
    },
    {
      "cell_type": "code",
      "source": [
        "data.isnull().sum()"
      ],
      "metadata": {
        "execution": {
          "iopub.status.busy": "2023-05-24T08:30:59.690342Z",
          "iopub.execute_input": "2023-05-24T08:30:59.690701Z",
          "iopub.status.idle": "2023-05-24T08:30:59.702684Z",
          "shell.execute_reply.started": "2023-05-24T08:30:59.690670Z",
          "shell.execute_reply": "2023-05-24T08:30:59.701551Z"
        },
        "trusted": true,
        "colab": {
          "base_uri": "https://localhost:8080/"
        },
        "id": "LyQ-tV-nDbKG",
        "outputId": "8d619ee7-7ecf-47c7-839e-027d81514032"
      },
      "execution_count": 9,
      "outputs": [
        {
          "output_type": "execute_result",
          "data": {
            "text/plain": [
              "Humidity        0\n",
              "Temperature     0\n",
              "Step_count      0\n",
              "Stress_Level    0\n",
              "dtype: int64"
            ]
          },
          "metadata": {},
          "execution_count": 9
        }
      ]
    },
    {
      "cell_type": "markdown",
      "source": [
        "***3.Check for duplicate values***"
      ],
      "metadata": {
        "id": "qkhnGWoADbKH"
      }
    },
    {
      "cell_type": "code",
      "source": [
        "data.duplicated().sum()"
      ],
      "metadata": {
        "execution": {
          "iopub.status.busy": "2023-05-24T08:30:59.703766Z",
          "iopub.execute_input": "2023-05-24T08:30:59.704119Z",
          "iopub.status.idle": "2023-05-24T08:30:59.717120Z",
          "shell.execute_reply.started": "2023-05-24T08:30:59.704080Z",
          "shell.execute_reply": "2023-05-24T08:30:59.716170Z"
        },
        "trusted": true,
        "colab": {
          "base_uri": "https://localhost:8080/"
        },
        "id": "sdbcyH-oDbKH",
        "outputId": "b6ea9c28-aed5-4697-edc4-132ac253e69a"
      },
      "execution_count": 10,
      "outputs": [
        {
          "output_type": "execute_result",
          "data": {
            "text/plain": [
              "0"
            ]
          },
          "metadata": {},
          "execution_count": 10
        }
      ]
    },
    {
      "cell_type": "markdown",
      "source": [
        "# ***EDA - EXPLORATORY DATA ANALYSIS***"
      ],
      "metadata": {
        "id": "m7ljCSIqDbKL"
      }
    },
    {
      "cell_type": "markdown",
      "source": [
        "***1.Univariate Non-Graphical***"
      ],
      "metadata": {
        "id": "k-AjaNrBDbKM"
      }
    },
    {
      "cell_type": "markdown",
      "source": [
        "***Check for outliers. If present try to handle them.***"
      ],
      "metadata": {
        "id": "QvfzA04MDbKM"
      }
    },
    {
      "cell_type": "code",
      "source": [
        "data.skew()"
      ],
      "metadata": {
        "execution": {
          "iopub.status.busy": "2023-05-24T08:30:59.718666Z",
          "iopub.execute_input": "2023-05-24T08:30:59.718974Z",
          "iopub.status.idle": "2023-05-24T08:30:59.728127Z",
          "shell.execute_reply.started": "2023-05-24T08:30:59.718946Z",
          "shell.execute_reply": "2023-05-24T08:30:59.726841Z"
        },
        "trusted": true,
        "colab": {
          "base_uri": "https://localhost:8080/"
        },
        "id": "Zd0MknG3DbKN",
        "outputId": "771e3288-61b3-4620-f971-4ec1234c07d0"
      },
      "execution_count": 11,
      "outputs": [
        {
          "output_type": "execute_result",
          "data": {
            "text/plain": [
              "Humidity        1.179993e-18\n",
              "Temperature    -1.297993e-17\n",
              "Step_count     -6.998237e-03\n",
              "Stress_Level   -1.811032e-01\n",
              "dtype: float64"
            ]
          },
          "metadata": {},
          "execution_count": 11
        }
      ]
    },
    {
      "cell_type": "code",
      "source": [
        "plt.figure(figsize=(4,4))\n",
        "plt.boxplot(data)\n",
        "plt.show()"
      ],
      "metadata": {
        "execution": {
          "iopub.status.busy": "2023-05-24T08:30:59.734199Z",
          "iopub.execute_input": "2023-05-24T08:30:59.734578Z",
          "iopub.status.idle": "2023-05-24T08:30:59.935548Z",
          "shell.execute_reply.started": "2023-05-24T08:30:59.734545Z",
          "shell.execute_reply": "2023-05-24T08:30:59.934415Z"
        },
        "trusted": true,
        "colab": {
          "base_uri": "https://localhost:8080/",
          "height": 368
        },
        "id": "AmOqHzm5DbKN",
        "outputId": "422ff460-453e-466e-c746-09cef6400f0a"
      },
      "execution_count": 12,
      "outputs": [
        {
          "output_type": "display_data",
          "data": {
            "text/plain": [
              "<Figure size 400x400 with 1 Axes>"
            ],
            "image/png": "[encoded data removed]"
          },
          "metadata": {}
        }
      ]
    },
    {
      "cell_type": "markdown",
      "source": [
        "All 4 columns consists skewness."
      ],
      "metadata": {
        "id": "9mVAJYRUDbKO"
      }
    },
    {
      "cell_type": "markdown",
      "source": [
        "***Skewness Reduction***"
      ],
      "metadata": {
        "id": "AaFjjmjSDbKP"
      }
    },
    {
      "cell_type": "code",
      "source": [
        "# Logarithmic Transformation\n",
        "hum_log = np.log(data['Humidity'])\n",
        "h = round(hum_log.skew(),10)\n",
        "print(h)"
      ],
      "metadata": {
        "execution": {
          "iopub.status.busy": "2023-05-24T08:30:59.936781Z",
          "iopub.execute_input": "2023-05-24T08:30:59.937992Z",
          "iopub.status.idle": "2023-05-24T08:30:59.944521Z",
          "shell.execute_reply.started": "2023-05-24T08:30:59.937956Z",
          "shell.execute_reply": "2023-05-24T08:30:59.943637Z"
        },
        "trusted": true,
        "colab": {
          "base_uri": "https://localhost:8080/"
        },
        "id": "TeYxlyZgDbKP",
        "outputId": "8a9f7e71-7bfc-4129-97b2-be1cedf23773"
      },
      "execution_count": 13,
      "outputs": [
        {
          "output_type": "stream",
          "name": "stdout",
          "text": [
            "-0.3790364332\n"
          ]
        }
      ]
    },
    {
      "cell_type": "code",
      "source": [
        "# SquareRoot Transformation\n",
        "temp_sqrt = np.sqrt(data['Temperature'])\n",
        "temp_sqrt.skew()\n",
        "t = round(temp_sqrt.skew(),10)\n",
        "print(t)"
      ],
      "metadata": {
        "execution": {
          "iopub.status.busy": "2023-05-24T08:30:59.945656Z",
          "iopub.execute_input": "2023-05-24T08:30:59.946622Z",
          "iopub.status.idle": "2023-05-24T08:30:59.957034Z",
          "shell.execute_reply.started": "2023-05-24T08:30:59.946588Z",
          "shell.execute_reply": "2023-05-24T08:30:59.955392Z"
        },
        "trusted": true,
        "colab": {
          "base_uri": "https://localhost:8080/"
        },
        "id": "I8j2HaFsDbKQ",
        "outputId": "770870ef-82ca-4c63-af13-1979a998d918"
      },
      "execution_count": 14,
      "outputs": [
        {
          "output_type": "stream",
          "name": "stdout",
          "text": [
            "-0.0390881104\n"
          ]
        }
      ]
    },
    {
      "cell_type": "code",
      "source": [
        "quantile1=data[\"Step_count\"].quantile(0.25)\n",
        "quantile2=data[\"Step_count\"].quantile(0.75)"
      ],
      "metadata": {
        "execution": {
          "iopub.status.busy": "2023-05-24T08:30:59.958900Z",
          "iopub.execute_input": "2023-05-24T08:30:59.960030Z",
          "iopub.status.idle": "2023-05-24T08:30:59.972307Z",
          "shell.execute_reply.started": "2023-05-24T08:30:59.959985Z",
          "shell.execute_reply": "2023-05-24T08:30:59.971292Z"
        },
        "trusted": true,
        "id": "NFKQNZeKDbKQ"
      },
      "execution_count": 15,
      "outputs": []
    },
    {
      "cell_type": "code",
      "source": [
        "quantile1"
      ],
      "metadata": {
        "execution": {
          "iopub.status.busy": "2023-05-24T08:30:59.973583Z",
          "iopub.execute_input": "2023-05-24T08:30:59.974406Z",
          "iopub.status.idle": "2023-05-24T08:30:59.986012Z",
          "shell.execute_reply.started": "2023-05-24T08:30:59.974372Z",
          "shell.execute_reply": "2023-05-24T08:30:59.984883Z"
        },
        "trusted": true,
        "colab": {
          "base_uri": "https://localhost:8080/"
        },
        "id": "nEWJmSMMDbKR",
        "outputId": "63f1d1e3-8c53-4ff6-f487-c3fc23f81671"
      },
      "execution_count": 16,
      "outputs": [
        {
          "output_type": "execute_result",
          "data": {
            "text/plain": [
              "50.0"
            ]
          },
          "metadata": {},
          "execution_count": 16
        }
      ]
    },
    {
      "cell_type": "code",
      "source": [
        "quantile2"
      ],
      "metadata": {
        "execution": {
          "iopub.status.busy": "2023-05-24T08:30:59.987297Z",
          "iopub.execute_input": "2023-05-24T08:30:59.987655Z",
          "iopub.status.idle": "2023-05-24T08:30:59.996160Z",
          "shell.execute_reply.started": "2023-05-24T08:30:59.987624Z",
          "shell.execute_reply": "2023-05-24T08:30:59.994910Z"
        },
        "trusted": true,
        "colab": {
          "base_uri": "https://localhost:8080/"
        },
        "id": "MCUENnEmDbKS",
        "outputId": "7a38a79d-4651-4a59-ca7d-2ac31af8742c"
      },
      "execution_count": 17,
      "outputs": [
        {
          "output_type": "execute_result",
          "data": {
            "text/plain": [
              "150.0"
            ]
          },
          "metadata": {},
          "execution_count": 17
        }
      ]
    },
    {
      "cell_type": "code",
      "source": [
        "data[\"Step_count\"]=np.where(data[\"Step_count\"]<quantile1,quantile1,data[\"Step_count\"])\n",
        "data[\"Step_count\"]=np.where(data[\"Step_count\"]>quantile2,quantile2,data[\"Step_count\"])"
      ],
      "metadata": {
        "execution": {
          "iopub.status.busy": "2023-05-24T08:30:59.997456Z",
          "iopub.execute_input": "2023-05-24T08:30:59.998156Z",
          "iopub.status.idle": "2023-05-24T08:31:00.006772Z",
          "shell.execute_reply.started": "2023-05-24T08:30:59.998122Z",
          "shell.execute_reply": "2023-05-24T08:31:00.005615Z"
        },
        "trusted": true,
        "id": "F2b8dvUNDbKS"
      },
      "execution_count": 18,
      "outputs": []
    },
    {
      "cell_type": "code",
      "source": [
        "s = round(data['Step_count'].skew(),10)\n",
        "print(s)"
      ],
      "metadata": {
        "execution": {
          "iopub.status.busy": "2023-05-24T08:31:00.008267Z",
          "iopub.execute_input": "2023-05-24T08:31:00.009298Z",
          "iopub.status.idle": "2023-05-24T08:31:00.019215Z",
          "shell.execute_reply.started": "2023-05-24T08:31:00.009251Z",
          "shell.execute_reply": "2023-05-24T08:31:00.017941Z"
        },
        "trusted": true,
        "colab": {
          "base_uri": "https://localhost:8080/"
        },
        "id": "SMkApOwhDbKT",
        "outputId": "cb5fcbfa-df93-4756-ccf2-9c6c139f03c7"
      },
      "execution_count": 19,
      "outputs": [
        {
          "output_type": "stream",
          "name": "stdout",
          "text": [
            "-0.0094975784\n"
          ]
        }
      ]
    },
    {
      "cell_type": "code",
      "source": [
        "# SquareRoot Transformation\n",
        "stress_sqrt = np.sqrt(data['Stress_Level'])\n",
        "sl = round(stress_sqrt.skew(),10)\n",
        "print(sl)"
      ],
      "metadata": {
        "execution": {
          "iopub.status.busy": "2023-05-24T08:31:00.020494Z",
          "iopub.execute_input": "2023-05-24T08:31:00.020999Z",
          "iopub.status.idle": "2023-05-24T08:31:00.031417Z",
          "shell.execute_reply.started": "2023-05-24T08:31:00.020968Z",
          "shell.execute_reply": "2023-05-24T08:31:00.030481Z"
        },
        "trusted": true,
        "colab": {
          "base_uri": "https://localhost:8080/"
        },
        "id": "PlMS0kKeDbKT",
        "outputId": "52b4ea06-f0bc-408e-ad3c-1285f972846f"
      },
      "execution_count": 20,
      "outputs": [
        {
          "output_type": "stream",
          "name": "stdout",
          "text": [
            "-0.7944935599\n"
          ]
        }
      ]
    },
    {
      "cell_type": "markdown",
      "source": [
        "***2.Univariate Graphical***"
      ],
      "metadata": {
        "id": "t9RgFYOQDbKU"
      }
    },
    {
      "cell_type": "code",
      "source": [
        "column=['Step_count','Humidity']\n",
        "for category in column:\n",
        "    plt.figure(figsize=(3,3))\n",
        "    plt.hist(data[category])\n",
        "    plt.title(category)\n",
        "    plt.show()"
      ],
      "metadata": {
        "execution": {
          "iopub.status.busy": "2023-05-24T08:31:00.032645Z",
          "iopub.execute_input": "2023-05-24T08:31:00.033263Z",
          "iopub.status.idle": "2023-05-24T08:31:00.374657Z",
          "shell.execute_reply.started": "2023-05-24T08:31:00.033230Z",
          "shell.execute_reply": "2023-05-24T08:31:00.373528Z"
        },
        "trusted": true,
        "colab": {
          "base_uri": "https://localhost:8080/",
          "height": 610
        },
        "id": "SaBrzFaRDbKU",
        "outputId": "4191db0e-1f01-4f79-ec3e-fd2b14b84dfd"
      },
      "execution_count": 21,
      "outputs": [
        {
          "output_type": "display_data",
          "data": {
            "text/plain": [
              "<Figure size 300x300 with 1 Axes>"
            ],
            "image/png": "[encoded data removed]"
          },
          "metadata": {}
        },
        {
          "output_type": "display_data",
          "data": {
            "text/plain": [
              "<Figure size 300x300 with 1 Axes>"
            ],
            "image/png": "[encoded data removed]"
          },
          "metadata": {}
        }
      ]
    },
    {
      "cell_type": "code",
      "source": [
        "# histplot (categorical) \n",
        "plt.figure(figsize=(3,3))\n",
        "sns.set(font_scale=1)\n",
        "sns.histplot(data=data, x='Stress_Level')"
      ],
      "metadata": {
        "execution": {
          "iopub.status.busy": "2023-05-24T08:31:00.376229Z",
          "iopub.execute_input": "2023-05-24T08:31:00.377628Z",
          "iopub.status.idle": "2023-05-24T08:31:00.652236Z",
          "shell.execute_reply.started": "2023-05-24T08:31:00.377577Z",
          "shell.execute_reply": "2023-05-24T08:31:00.650922Z"
        },
        "trusted": true,
        "colab": {
          "base_uri": "https://localhost:8080/",
          "height": 338
        },
        "id": "MySEPqljDbKf",
        "outputId": "d83bc53a-1a14-45c2-9b0f-9292ef0a79c8"
      },
      "execution_count": 22,
      "outputs": [
        {
          "output_type": "execute_result",
          "data": {
            "text/plain": [
              "<Axes: xlabel='Stress_Level', ylabel='Count'>"
            ]
          },
          "metadata": {},
          "execution_count": 22
        },
        {
          "output_type": "display_data",
          "data": {
            "text/plain": [
              "<Figure size 300x300 with 1 Axes>"
            ],
            "image/png": "[encoded data removed]"
          },
          "metadata": {}
        }
      ]
    },
    {
      "cell_type": "code",
      "source": [
        "plt.figure(figsize=(3,3))\n",
        "sns.boxplot(data['Temperature'])"
      ],
      "metadata": {
        "execution": {
          "iopub.status.busy": "2023-05-24T08:31:00.653763Z",
          "iopub.execute_input": "2023-05-24T08:31:00.654277Z",
          "iopub.status.idle": "2023-05-24T08:31:00.860624Z",
          "shell.execute_reply.started": "2023-05-24T08:31:00.654232Z",
          "shell.execute_reply": "2023-05-24T08:31:00.859424Z"
        },
        "trusted": true,
        "colab": {
          "base_uri": "https://localhost:8080/",
          "height": 320
        },
        "id": "jRbjGSVGDbKf",
        "outputId": "c278c7ba-fe64-417d-a8f5-c2d21015b880"
      },
      "execution_count": 23,
      "outputs": [
        {
          "output_type": "execute_result",
          "data": {
            "text/plain": [
              "<Axes: >"
            ]
          },
          "metadata": {},
          "execution_count": 23
        },
        {
          "output_type": "display_data",
          "data": {
            "text/plain": [
              "<Figure size 300x300 with 1 Axes>"
            ],
            "image/png": "[encoded data removed]"
          },
          "metadata": {}
        }
      ]
    },
    {
      "cell_type": "markdown",
      "source": [
        "***3.Multivariate Non-Graphical***"
      ],
      "metadata": {
        "id": "xvIDnsGfDbKg"
      }
    },
    {
      "cell_type": "markdown",
      "source": [
        "***Correlation***"
      ],
      "metadata": {
        "id": "NfJ5FSbdDbKg"
      }
    },
    {
      "cell_type": "code",
      "source": [
        "correlation = data.corr()\n",
        "correlation"
      ],
      "metadata": {
        "execution": {
          "iopub.status.busy": "2023-05-24T08:31:00.862462Z",
          "iopub.execute_input": "2023-05-24T08:31:00.862977Z",
          "iopub.status.idle": "2023-05-24T08:31:00.878899Z",
          "shell.execute_reply.started": "2023-05-24T08:31:00.862932Z",
          "shell.execute_reply": "2023-05-24T08:31:00.877758Z"
        },
        "trusted": true,
        "colab": {
          "base_uri": "https://localhost:8080/",
          "height": 175
        },
        "id": "Cn9QeMN4DbKg",
        "outputId": "ad80c832-2c53-4d93-fa2c-9f918a90810c"
      },
      "execution_count": 24,
      "outputs": [
        {
          "output_type": "execute_result",
          "data": {
            "text/plain": [
              "              Humidity  Temperature  Step_count  Stress_Level\n",
              "Humidity      1.000000     1.000000    0.902053      0.936036\n",
              "Temperature   1.000000     1.000000    0.902053      0.936036\n",
              "Step_count    0.902053     0.902053    1.000000      0.859096\n",
              "Stress_Level  0.936036     0.936036    0.859096      1.000000"
            ],
            "text/html": [
              "\n",
              "  <div id=\"df-612eaf6b-4413-4cac-a6e4-3058e4ddb4c7\">\n",
              "    <div class=\"colab-df-container\">\n",
              "      <div>\n",
              "<style scoped>\n",
              "    .dataframe tbody tr th:only-of-type {\n",
              "        vertical-align: middle;\n",
              "    }\n",
              "\n",
              "    .dataframe tbody tr th {\n",
              "        vertical-align: top;\n",
              "    }\n",
              "\n",
              "    .dataframe thead th {\n",
              "        text-align: right;\n",
              "    }\n",
              "</style>\n",
              "<table border=\"1\" class=\"dataframe\">\n",
              "  <thead>\n",
              "    <tr style=\"text-align: right;\">\n",
              "      <th></th>\n",
              "      <th>Humidity</th>\n",
              "      <th>Temperature</th>\n",
              "      <th>Step_count</th>\n",
              "      <th>Stress_Level</th>\n",
              "    </tr>\n",
              "  </thead>\n",
              "  <tbody>\n",
              "    <tr>\n",
              "      <th>Humidity</th>\n",
              "      <td>1.000000</td>\n",
              "      <td>1.000000</td>\n",
              "      <td>0.902053</td>\n",
              "      <td>0.936036</td>\n",
              "    </tr>\n",
              "    <tr>\n",
              "      <th>Temperature</th>\n",
              "      <td>1.000000</td>\n",
              "      <td>1.000000</td>\n",
              "      <td>0.902053</td>\n",
              "      <td>0.936036</td>\n",
              "    </tr>\n",
              "    <tr>\n",
              "      <th>Step_count</th>\n",
              "      <td>0.902053</td>\n",
              "      <td>0.902053</td>\n",
              "      <td>1.000000</td>\n",
              "      <td>0.859096</td>\n",
              "    </tr>\n",
              "    <tr>\n",
              "      <th>Stress_Level</th>\n",
              "      <td>0.936036</td>\n",
              "      <td>0.936036</td>\n",
              "      <td>0.859096</td>\n",
              "      <td>1.000000</td>\n",
              "    </tr>\n",
              "  </tbody>\n",
              "</table>\n",
              "</div>\n",
              "      <button class=\"colab-df-convert\" onclick=\"convertToInteractive('df-612eaf6b-4413-4cac-a6e4-3058e4ddb4c7')\"\n",
              "              title=\"Convert this dataframe to an interactive table.\"\n",
              "              style=\"display:none;\">\n",
              "        \n",
              "  <svg xmlns=\"http://www.w3.org/2000/svg\" height=\"24px\"viewBox=\"0 0 24 24\"\n",
              "       width=\"24px\">\n",
              "    <path d=\"M0 0h24v24H0V0z\" fill=\"none\"/>\n",
              "    <path d=\"M18.56 5.44l.94 2.06.94-2.06 2.06-.94-2.06-.94-.94-2.06-.94 2.06-2.06.94zm-11 1L8.5 8.5l.94-2.06 2.06-.94-2.06-.94L8.5 2.5l-.94 2.06-2.06.94zm10 10l.94 2.06.94-2.06 2.06-.94-2.06-.94-.94-2.06-.94 2.06-2.06.94z\"/><path d=\"M17.41 7.96l-1.37-1.37c-.4-.4-.92-.59-1.43-.59-.52 0-1.04.2-1.43.59L10.3 9.45l-7.72 7.72c-.78.78-.78 2.05 0 2.83L4 21.41c.39.39.9.59 1.41.59.51 0 1.02-.2 1.41-.59l7.78-7.78 2.81-2.81c.8-.78.8-2.07 0-2.86zM5.41 20L4 18.59l7.72-7.72 1.47 1.35L5.41 20z\"/>\n",
              "  </svg>\n",
              "      </button>\n",
              "      \n",
              "  <style>\n",
              "    .colab-df-container {\n",
              "      display:flex;\n",
              "      flex-wrap:wrap;\n",
              "      gap: 12px;\n",
              "    }\n",
              "\n",
              "    .colab-df-convert {\n",
              "      background-color: #E8F0FE;\n",
              "      border: none;\n",
              "      border-radius: 50%;\n",
              "      cursor: pointer;\n",
              "      display: none;\n",
              "      fill: #1967D2;\n",
              "      height: 32px;\n",
              "      padding: 0 0 0 0;\n",
              "      width: 32px;\n",
              "    }\n",
              "\n",
              "    .colab-df-convert:hover {\n",
              "      background-color: #E2EBFA;\n",
              "      box-shadow: 0px 1px 2px rgba(60, 64, 67, 0.3), 0px 1px 3px 1px rgba(60, 64, 67, 0.15);\n",
              "      fill: #174EA6;\n",
              "    }\n",
              "\n",
              "    [theme=dark] .colab-df-convert {\n",
              "      background-color: #3B4455;\n",
              "      fill: #D2E3FC;\n",
              "    }\n",
              "\n",
              "    [theme=dark] .colab-df-convert:hover {\n",
              "      background-color: #434B5C;\n",
              "      box-shadow: 0px 1px 3px 1px rgba(0, 0, 0, 0.15);\n",
              "      filter: drop-shadow(0px 1px 2px rgba(0, 0, 0, 0.3));\n",
              "      fill: #FFFFFF;\n",
              "    }\n",
              "  </style>\n",
              "\n",
              "      <script>\n",
              "        const buttonEl =\n",
              "          document.querySelector('#df-612eaf6b-4413-4cac-a6e4-3058e4ddb4c7 button.colab-df-convert');\n",
              "        buttonEl.style.display =\n",
              "          google.colab.kernel.accessAllowed ? 'block' : 'none';\n",
              "\n",
              "        async function convertToInteractive(key) {\n",
              "          const element = document.querySelector('#df-612eaf6b-4413-4cac-a6e4-3058e4ddb4c7');\n",
              "          const dataTable =\n",
              "            await google.colab.kernel.invokeFunction('convertToInteractive',\n",
              "                                                     [key], {});\n",
              "          if (!dataTable) return;\n",
              "\n",
              "          const docLinkHtml = 'Like what you see? Visit the ' +\n",
              "            '<a target=\"_blank\" href=https://colab.research.google.com/notebooks/data_table.ipynb>data table notebook</a>'\n",
              "            + ' to learn more about interactive tables.';\n",
              "          element.innerHTML = '';\n",
              "          dataTable['output_type'] = 'display_data';\n",
              "          await google.colab.output.renderOutput(dataTable, element);\n",
              "          const docLink = document.createElement('div');\n",
              "          docLink.innerHTML = docLinkHtml;\n",
              "          element.appendChild(docLink);\n",
              "        }\n",
              "      </script>\n",
              "    </div>\n",
              "  </div>\n",
              "  "
            ]
          },
          "metadata": {},
          "execution_count": 24
        }
      ]
    },
    {
      "cell_type": "code",
      "source": [
        "plt.figure(figsize=(3,3))\n",
        "sns.heatmap(correlation,annot=True,cmap='crest',linewidths=0.2)\n",
        "plt.show()"
      ],
      "metadata": {
        "execution": {
          "iopub.status.busy": "2023-05-24T08:31:00.880900Z",
          "iopub.execute_input": "2023-05-24T08:31:00.881387Z",
          "iopub.status.idle": "2023-05-24T08:31:01.184085Z",
          "shell.execute_reply.started": "2023-05-24T08:31:00.881344Z",
          "shell.execute_reply": "2023-05-24T08:31:01.182966Z"
        },
        "trusted": true,
        "colab": {
          "base_uri": "https://localhost:8080/",
          "height": 384
        },
        "id": "9lQTvyGcDbKh",
        "outputId": "a74bba0d-3987-4be8-8fa9-f3801a15458f"
      },
      "execution_count": 25,
      "outputs": [
        {
          "output_type": "display_data",
          "data": {
            "text/plain": [
              "<Figure size 300x300 with 2 Axes>"
            ],
            "image/png": "[encoded data removed]"
          },
          "metadata": {}
        }
      ]
    },
    {
      "cell_type": "markdown",
      "source": [
        "***4.Multivariate Graphical***"
      ],
      "metadata": {
        "id": "LwpnnyugDbKi"
      }
    },
    {
      "cell_type": "code",
      "source": [
        "plt.figure(figsize=(3,3))\n",
        "sns.scatterplot(x='Humidity',y='Temperature',hue='Stress_Level',data=data)\n",
        "plt.show()"
      ],
      "metadata": {
        "execution": {
          "iopub.status.busy": "2023-05-24T08:31:01.185465Z",
          "iopub.execute_input": "2023-05-24T08:31:01.185799Z",
          "iopub.status.idle": "2023-05-24T08:31:01.538302Z",
          "shell.execute_reply.started": "2023-05-24T08:31:01.185768Z",
          "shell.execute_reply": "2023-05-24T08:31:01.537404Z"
        },
        "trusted": true,
        "colab": {
          "base_uri": "https://localhost:8080/",
          "height": 325
        },
        "id": "eSU09bhSDbKi",
        "outputId": "247c9302-8a00-4875-f356-f5ce0d3f4a91"
      },
      "execution_count": 26,
      "outputs": [
        {
          "output_type": "display_data",
          "data": {
            "text/plain": [
              "<Figure size 300x300 with 1 Axes>"
            ],
            "image/png": "[encoded data removed]"
          },
          "metadata": {}
        }
      ]
    },
    {
      "cell_type": "markdown",
      "source": [
        "# ***MODELLING***"
      ],
      "metadata": {
        "id": "A6iSOB7GDbKi"
      }
    },
    {
      "cell_type": "code",
      "source": [
        "from sklearn.model_selection import train_test_split\n",
        "X=data.drop(['Stress_Level'],axis=1)\n",
        "y=data['Stress_Level']\n",
        "X_train,X_test,y_train,y_test = train_test_split(X,y,test_size=0.2,random_state=2)"
      ],
      "metadata": {
        "execution": {
          "iopub.status.busy": "2023-05-24T08:31:01.539712Z",
          "iopub.execute_input": "2023-05-24T08:31:01.540326Z",
          "iopub.status.idle": "2023-05-24T08:31:01.756558Z",
          "shell.execute_reply.started": "2023-05-24T08:31:01.540289Z",
          "shell.execute_reply": "2023-05-24T08:31:01.755147Z"
        },
        "trusted": true,
        "id": "DIMzJ5ctDbKj"
      },
      "execution_count": 27,
      "outputs": []
    },
    {
      "cell_type": "markdown",
      "source": [
        "***LOGISTIC REGRESSION***"
      ],
      "metadata": {
        "id": "-l8JzlFqDbKj"
      }
    },
    {
      "cell_type": "code",
      "source": [
        "from sklearn.linear_model import LogisticRegression\n",
        "regressor = LogisticRegression(C=1.0,random_state=2)\n",
        "regressor.fit(X_train,y_train)"
      ],
      "metadata": {
        "execution": {
          "iopub.status.busy": "2023-05-24T08:31:01.757824Z",
          "iopub.execute_input": "2023-05-24T08:31:01.758183Z",
          "iopub.status.idle": "2023-05-24T08:31:01.934021Z",
          "shell.execute_reply.started": "2023-05-24T08:31:01.758151Z",
          "shell.execute_reply": "2023-05-24T08:31:01.932575Z"
        },
        "trusted": true,
        "colab": {
          "base_uri": "https://localhost:8080/",
          "height": 220
        },
        "id": "c_-3M0HdDbKk",
        "outputId": "1ccfa121-ab56-4a3e-c661-787906ad085b"
      },
      "execution_count": 28,
      "outputs": [
        {
          "output_type": "stream",
          "name": "stderr",
          "text": [
            "/usr/local/lib/python3.10/dist-packages/sklearn/linear_model/_logistic.py:458: ConvergenceWarning: lbfgs failed to converge (status=1):\n",
            "STOP: TOTAL NO. of ITERATIONS REACHED LIMIT.\n",
            "\n",
            "Increase the number of iterations (max_iter) or scale the data as shown in:\n",
            "    https://scikit-learn.org/stable/modules/preprocessing.html\n",
            "Please also refer to the documentation for alternative solver options:\n",
            "    https://scikit-learn.org/stable/modules/linear_model.html#logistic-regression\n",
            "  n_iter_i = _check_optimize_result(\n"
          ]
        },
        {
          "output_type": "execute_result",
          "data": {
            "text/plain": [
              "LogisticRegression(random_state=2)"
            ],
            "text/html": [
              "<style>#sk-container-id-1 {color: black;background-color: white;}#sk-container-id-1 pre{padding: 0;}#sk-container-id-1 div.sk-toggleable {background-color: white;}#sk-container-id-1 label.sk-toggleable__label {cursor: pointer;display: block;width: 100%;margin-bottom: 0;padding: 0.3em;box-sizing: border-box;text-align: center;}#sk-container-id-1 label.sk-toggleable__label-arrow:before {content: \"▸\";float: left;margin-right: 0.25em;color: #696969;}#sk-container-id-1 label.sk-toggleable__label-arrow:hover:before {color: black;}#sk-container-id-1 div.sk-estimator:hover label.sk-toggleable__label-arrow:before {color: black;}#sk-container-id-1 div.sk-toggleable__content {max-height: 0;max-width: 0;overflow: hidden;text-align: left;background-color: #f0f8ff;}#sk-container-id-1 div.sk-toggleable__content pre {margin: 0.2em;color: black;border-radius: 0.25em;background-color: #f0f8ff;}#sk-container-id-1 input.sk-toggleable__control:checked~div.sk-toggleable__content {max-height: 200px;max-width: 100%;overflow: auto;}#sk-container-id-1 input.sk-toggleable__control:checked~label.sk-toggleable__label-arrow:before {content: \"▾\";}#sk-container-id-1 div.sk-estimator input.sk-toggleable__control:checked~label.sk-toggleable__label {background-color: #d4ebff;}#sk-container-id-1 div.sk-label input.sk-toggleable__control:checked~label.sk-toggleable__label {background-color: #d4ebff;}#sk-container-id-1 input.sk-hidden--visually {border: 0;clip: rect(1px 1px 1px 1px);clip: rect(1px, 1px, 1px, 1px);height: 1px;margin: -1px;overflow: hidden;padding: 0;position: absolute;width: 1px;}#sk-container-id-1 div.sk-estimator {font-family: monospace;background-color: #f0f8ff;border: 1px dotted black;border-radius: 0.25em;box-sizing: border-box;margin-bottom: 0.5em;}#sk-container-id-1 div.sk-estimator:hover {background-color: #d4ebff;}#sk-container-id-1 div.sk-parallel-item::after {content: \"\";width: 100%;border-bottom: 1px solid gray;flex-grow: 1;}#sk-container-id-1 div.sk-label:hover label.sk-toggleable__label {background-color: #d4ebff;}#sk-container-id-1 div.sk-serial::before {content: \"\";position: absolute;border-left: 1px solid gray;box-sizing: border-box;top: 0;bottom: 0;left: 50%;z-index: 0;}#sk-container-id-1 div.sk-serial {display: flex;flex-direction: column;align-items: center;background-color: white;padding-right: 0.2em;padding-left: 0.2em;position: relative;}#sk-container-id-1 div.sk-item {position: relative;z-index: 1;}#sk-container-id-1 div.sk-parallel {display: flex;align-items: stretch;justify-content: center;background-color: white;position: relative;}#sk-container-id-1 div.sk-item::before, #sk-container-id-1 div.sk-parallel-item::before {content: \"\";position: absolute;border-left: 1px solid gray;box-sizing: border-box;top: 0;bottom: 0;left: 50%;z-index: -1;}#sk-container-id-1 div.sk-parallel-item {display: flex;flex-direction: column;z-index: 1;position: relative;background-color: white;}#sk-container-id-1 div.sk-parallel-item:first-child::after {align-self: flex-end;width: 50%;}#sk-container-id-1 div.sk-parallel-item:last-child::after {align-self: flex-start;width: 50%;}#sk-container-id-1 div.sk-parallel-item:only-child::after {width: 0;}#sk-container-id-1 div.sk-dashed-wrapped {border: 1px dashed gray;margin: 0 0.4em 0.5em 0.4em;box-sizing: border-box;padding-bottom: 0.4em;background-color: white;}#sk-container-id-1 div.sk-label label {font-family: monospace;font-weight: bold;display: inline-block;line-height: 1.2em;}#sk-container-id-1 div.sk-label-container {text-align: center;}#sk-container-id-1 div.sk-container {/* jupyter's `normalize.less` sets `[hidden] { display: none; }` but bootstrap.min.css set `[hidden] { display: none !important; }` so we also need the `!important` here to be able to override the default hidden behavior on the sphinx rendered scikit-learn.org. See: https://github.com/scikit-learn/scikit-learn/issues/21755 */display: inline-block !important;position: relative;}#sk-container-id-1 div.sk-text-repr-fallback {display: none;}</style><div id=\"sk-container-id-1\" class=\"sk-top-container\"><div class=\"sk-text-repr-fallback\"><pre>LogisticRegression(random_state=2)</pre><b>In a Jupyter environment, please rerun this cell to show the HTML representation or trust the notebook. <br />On GitHub, the HTML representation is unable to render, please try loading this page with nbviewer.org.</b></div><div class=\"sk-container\" hidden><div class=\"sk-item\"><div class=\"sk-estimator sk-toggleable\"><input class=\"sk-toggleable__control sk-hidden--visually\" id=\"sk-estimator-id-1\" type=\"checkbox\" checked><label for=\"sk-estimator-id-1\" class=\"sk-toggleable__label sk-toggleable__label-arrow\">LogisticRegression</label><div class=\"sk-toggleable__content\"><pre>LogisticRegression(random_state=2)</pre></div></div></div></div></div>"
            ]
          },
          "metadata": {},
          "execution_count": 28
        }
      ]
    },
    {
      "cell_type": "code",
      "source": [
        "from sklearn.metrics import accuracy_score, confusion_matrix\n",
        "prediction = regressor.predict(X_test)\n",
        "confusionmatrix = confusion_matrix(y_test,prediction)\n",
        "print(confusionmatrix)"
      ],
      "metadata": {
        "execution": {
          "iopub.status.busy": "2023-05-24T08:31:01.935847Z",
          "iopub.execute_input": "2023-05-24T08:31:01.936664Z",
          "iopub.status.idle": "2023-05-24T08:31:01.948942Z",
          "shell.execute_reply.started": "2023-05-24T08:31:01.936615Z",
          "shell.execute_reply": "2023-05-24T08:31:01.947698Z"
        },
        "trusted": true,
        "colab": {
          "base_uri": "https://localhost:8080/"
        },
        "id": "iLmCSqDPDbKl",
        "outputId": "26c39ce7-2cf2-4f0f-df74-b250f53bd488"
      },
      "execution_count": 29,
      "outputs": [
        {
          "output_type": "stream",
          "name": "stdout",
          "text": [
            "[[ 83   0   0]\n",
            " [  0 166   0]\n",
            " [  0   0 152]]\n"
          ]
        }
      ]
    },
    {
      "cell_type": "code",
      "source": [
        "print(accuracy_score(y_test,prediction))"
      ],
      "metadata": {
        "execution": {
          "iopub.status.busy": "2023-05-24T08:31:01.957737Z",
          "iopub.execute_input": "2023-05-24T08:31:01.958288Z",
          "iopub.status.idle": "2023-05-24T08:31:01.967246Z",
          "shell.execute_reply.started": "2023-05-24T08:31:01.958237Z",
          "shell.execute_reply": "2023-05-24T08:31:01.965599Z"
        },
        "trusted": true,
        "colab": {
          "base_uri": "https://localhost:8080/"
        },
        "id": "BhNQPkzzDbKl",
        "outputId": "dfa17deb-5dc8-4874-aba1-5fd7c27fc8b3"
      },
      "execution_count": 30,
      "outputs": [
        {
          "output_type": "stream",
          "name": "stdout",
          "text": [
            "1.0\n"
          ]
        }
      ]
    },
    {
      "cell_type": "markdown",
      "source": [
        "***RANDOM FOREST CLASSIFICATION***"
      ],
      "metadata": {
        "id": "Kc5v7e17DbKl"
      }
    },
    {
      "cell_type": "code",
      "source": [
        "from sklearn.ensemble import RandomForestClassifier\n",
        "model=RandomForestClassifier(n_estimators=100,max_depth=3,random_state=0)\n",
        "model.fit(X,y)\n",
        "prediction = model.predict(X_test)\n",
        "confusionmatrix = confusion_matrix(y_test,prediction)\n",
        "print(confusionmatrix)"
      ],
      "metadata": {
        "execution": {
          "iopub.status.busy": "2023-05-24T08:31:01.968587Z",
          "iopub.execute_input": "2023-05-24T08:31:01.969210Z",
          "iopub.status.idle": "2023-05-24T08:31:02.325147Z",
          "shell.execute_reply.started": "2023-05-24T08:31:01.969160Z",
          "shell.execute_reply": "2023-05-24T08:31:02.323980Z"
        },
        "trusted": true,
        "colab": {
          "base_uri": "https://localhost:8080/"
        },
        "id": "i33MBAMRDbKm",
        "outputId": "800bd622-4ff0-4612-de3a-dc423bbac6b9"
      },
      "execution_count": 31,
      "outputs": [
        {
          "output_type": "stream",
          "name": "stdout",
          "text": [
            "[[ 83   0   0]\n",
            " [  0 166   0]\n",
            " [  0   0 152]]\n"
          ]
        }
      ]
    },
    {
      "cell_type": "code",
      "source": [
        "print(accuracy_score(y_test,prediction))"
      ],
      "metadata": {
        "execution": {
          "iopub.status.busy": "2023-05-24T08:31:02.326748Z",
          "iopub.execute_input": "2023-05-24T08:31:02.327235Z",
          "iopub.status.idle": "2023-05-24T08:31:02.334750Z",
          "shell.execute_reply.started": "2023-05-24T08:31:02.327190Z",
          "shell.execute_reply": "2023-05-24T08:31:02.333568Z"
        },
        "trusted": true,
        "colab": {
          "base_uri": "https://localhost:8080/"
        },
        "id": "2EYwLC2nDbKn",
        "outputId": "04af5938-0113-40ba-d3c7-51633616499a"
      },
      "execution_count": 32,
      "outputs": [
        {
          "output_type": "stream",
          "name": "stdout",
          "text": [
            "1.0\n"
          ]
        }
      ]
    },
    {
      "cell_type": "markdown",
      "source": [
        "***SUPPORT VECTOR MACHINE***"
      ],
      "metadata": {
        "id": "jebtxUfDDbKn"
      }
    },
    {
      "cell_type": "code",
      "source": [
        "from sklearn.preprocessing import StandardScaler\n",
        "standardscaler = StandardScaler()\n",
        "X_train = standardscaler.fit_transform(X_train)\n",
        "X_test = standardscaler.transform(X_test)  # you probably meant X_test here, not X_train again\n"
      ],
      "metadata": {
        "execution": {
          "iopub.status.busy": "2023-05-24T08:31:02.336204Z",
          "iopub.execute_input": "2023-05-24T08:31:02.336564Z",
          "iopub.status.idle": "2023-05-24T08:31:02.456504Z",
          "shell.execute_reply.started": "2023-05-24T08:31:02.336527Z",
          "shell.execute_reply": "2023-05-24T08:31:02.454983Z"
        },
        "trusted": true,
        "id": "wHcnhnnhDbKo"
      },
      "execution_count": 34,
      "outputs": []
    },
    {
      "cell_type": "code",
      "source": [
        "from sklearn.svm import SVC\n",
        "classifier = SVC(kernel='linear', random_state=0)  \n",
        "classifier.fit(X_train, y_train)  "
      ],
      "metadata": {
        "execution": {
          "iopub.status.busy": "2023-05-24T08:31:02.458083Z",
          "iopub.status.idle": "2023-05-24T08:31:02.458534Z",
          "shell.execute_reply.started": "2023-05-24T08:31:02.458329Z",
          "shell.execute_reply": "2023-05-24T08:31:02.458348Z"
        },
        "trusted": true,
        "colab": {
          "base_uri": "https://localhost:8080/",
          "height": 74
        },
        "id": "dJE0v09hDbKp",
        "outputId": "a622f158-0cb4-4eb8-f544-6226e79fa265"
      },
      "execution_count": 35,
      "outputs": [
        {
          "output_type": "execute_result",
          "data": {
            "text/plain": [
              "SVC(kernel='linear', random_state=0)"
            ],
            "text/html": [
              "<style>#sk-container-id-2 {color: black;background-color: white;}#sk-container-id-2 pre{padding: 0;}#sk-container-id-2 div.sk-toggleable {background-color: white;}#sk-container-id-2 label.sk-toggleable__label {cursor: pointer;display: block;width: 100%;margin-bottom: 0;padding: 0.3em;box-sizing: border-box;text-align: center;}#sk-container-id-2 label.sk-toggleable__label-arrow:before {content: \"▸\";float: left;margin-right: 0.25em;color: #696969;}#sk-container-id-2 label.sk-toggleable__label-arrow:hover:before {color: black;}#sk-container-id-2 div.sk-estimator:hover label.sk-toggleable__label-arrow:before {color: black;}#sk-container-id-2 div.sk-toggleable__content {max-height: 0;max-width: 0;overflow: hidden;text-align: left;background-color: #f0f8ff;}#sk-container-id-2 div.sk-toggleable__content pre {margin: 0.2em;color: black;border-radius: 0.25em;background-color: #f0f8ff;}#sk-container-id-2 input.sk-toggleable__control:checked~div.sk-toggleable__content {max-height: 200px;max-width: 100%;overflow: auto;}#sk-container-id-2 input.sk-toggleable__control:checked~label.sk-toggleable__label-arrow:before {content: \"▾\";}#sk-container-id-2 div.sk-estimator input.sk-toggleable__control:checked~label.sk-toggleable__label {background-color: #d4ebff;}#sk-container-id-2 div.sk-label input.sk-toggleable__control:checked~label.sk-toggleable__label {background-color: #d4ebff;}#sk-container-id-2 input.sk-hidden--visually {border: 0;clip: rect(1px 1px 1px 1px);clip: rect(1px, 1px, 1px, 1px);height: 1px;margin: -1px;overflow: hidden;padding: 0;position: absolute;width: 1px;}#sk-container-id-2 div.sk-estimator {font-family: monospace;background-color: #f0f8ff;border: 1px dotted black;border-radius: 0.25em;box-sizing: border-box;margin-bottom: 0.5em;}#sk-container-id-2 div.sk-estimator:hover {background-color: #d4ebff;}#sk-container-id-2 div.sk-parallel-item::after {content: \"\";width: 100%;border-bottom: 1px solid gray;flex-grow: 1;}#sk-container-id-2 div.sk-label:hover label.sk-toggleable__label {background-color: #d4ebff;}#sk-container-id-2 div.sk-serial::before {content: \"\";position: absolute;border-left: 1px solid gray;box-sizing: border-box;top: 0;bottom: 0;left: 50%;z-index: 0;}#sk-container-id-2 div.sk-serial {display: flex;flex-direction: column;align-items: center;background-color: white;padding-right: 0.2em;padding-left: 0.2em;position: relative;}#sk-container-id-2 div.sk-item {position: relative;z-index: 1;}#sk-container-id-2 div.sk-parallel {display: flex;align-items: stretch;justify-content: center;background-color: white;position: relative;}#sk-container-id-2 div.sk-item::before, #sk-container-id-2 div.sk-parallel-item::before {content: \"\";position: absolute;border-left: 1px solid gray;box-sizing: border-box;top: 0;bottom: 0;left: 50%;z-index: -1;}#sk-container-id-2 div.sk-parallel-item {display: flex;flex-direction: column;z-index: 1;position: relative;background-color: white;}#sk-container-id-2 div.sk-parallel-item:first-child::after {align-self: flex-end;width: 50%;}#sk-container-id-2 div.sk-parallel-item:last-child::after {align-self: flex-start;width: 50%;}#sk-container-id-2 div.sk-parallel-item:only-child::after {width: 0;}#sk-container-id-2 div.sk-dashed-wrapped {border: 1px dashed gray;margin: 0 0.4em 0.5em 0.4em;box-sizing: border-box;padding-bottom: 0.4em;background-color: white;}#sk-container-id-2 div.sk-label label {font-family: monospace;font-weight: bold;display: inline-block;line-height: 1.2em;}#sk-container-id-2 div.sk-label-container {text-align: center;}#sk-container-id-2 div.sk-container {/* jupyter's `normalize.less` sets `[hidden] { display: none; }` but bootstrap.min.css set `[hidden] { display: none !important; }` so we also need the `!important` here to be able to override the default hidden behavior on the sphinx rendered scikit-learn.org. See: https://github.com/scikit-learn/scikit-learn/issues/21755 */display: inline-block !important;position: relative;}#sk-container-id-2 div.sk-text-repr-fallback {display: none;}</style><div id=\"sk-container-id-2\" class=\"sk-top-container\"><div class=\"sk-text-repr-fallback\"><pre>SVC(kernel=&#x27;linear&#x27;, random_state=0)</pre><b>In a Jupyter environment, please rerun this cell to show the HTML representation or trust the notebook. <br />On GitHub, the HTML representation is unable to render, please try loading this page with nbviewer.org.</b></div><div class=\"sk-container\" hidden><div class=\"sk-item\"><div class=\"sk-estimator sk-toggleable\"><input class=\"sk-toggleable__control sk-hidden--visually\" id=\"sk-estimator-id-2\" type=\"checkbox\" checked><label for=\"sk-estimator-id-2\" class=\"sk-toggleable__label sk-toggleable__label-arrow\">SVC</label><div class=\"sk-toggleable__content\"><pre>SVC(kernel=&#x27;linear&#x27;, random_state=0)</pre></div></div></div></div></div>"
            ]
          },
          "metadata": {},
          "execution_count": 35
        }
      ]
    },
    {
      "cell_type": "code",
      "source": [
        "y_predict= classifier.predict(X_test)\n",
        "score=accuracy_score(y_test,y_predict)\n",
        "print(score)"
      ],
      "metadata": {
        "execution": {
          "iopub.status.busy": "2023-05-24T08:31:02.459592Z",
          "iopub.status.idle": "2023-05-24T08:31:02.460220Z",
          "shell.execute_reply.started": "2023-05-24T08:31:02.459986Z",
          "shell.execute_reply": "2023-05-24T08:31:02.460007Z"
        },
        "trusted": true,
        "colab": {
          "base_uri": "https://localhost:8080/"
        },
        "id": "rHQ4XqZGDbKp",
        "outputId": "ac02b32f-c223-4af3-f693-7a68348238df"
      },
      "execution_count": 36,
      "outputs": [
        {
          "output_type": "stream",
          "name": "stdout",
          "text": [
            "0.9950124688279302\n"
          ]
        }
      ]
    },
    {
      "cell_type": "markdown",
      "source": [
        "# ***DEPLOYMENT***"
      ],
      "metadata": {
        "id": "ULQMzKrpDbKq"
      }
    },
    {
      "cell_type": "markdown",
      "source": [
        "***SAVING THE TRAINED MODEL***"
      ],
      "metadata": {
        "id": "AnOUb9P8DbKr"
      }
    },
    {
      "cell_type": "code",
      "source": [
        "import pickle"
      ],
      "metadata": {
        "execution": {
          "iopub.status.busy": "2023-05-24T08:31:02.461191Z",
          "iopub.status.idle": "2023-05-24T08:31:02.462016Z",
          "shell.execute_reply.started": "2023-05-24T08:31:02.461775Z",
          "shell.execute_reply": "2023-05-24T08:31:02.461804Z"
        },
        "trusted": true,
        "id": "I6W2Gw1nDbKr"
      },
      "execution_count": 37,
      "outputs": []
    },
    {
      "cell_type": "code",
      "source": [
        "filename = 'stress_trained.sav'\n",
        "pickle.dump(classifier,open(filename,'wb'))"
      ],
      "metadata": {
        "execution": {
          "iopub.status.busy": "2023-05-24T08:31:02.463582Z",
          "iopub.status.idle": "2023-05-24T08:31:02.464000Z",
          "shell.execute_reply.started": "2023-05-24T08:31:02.463797Z",
          "shell.execute_reply": "2023-05-24T08:31:02.463817Z"
        },
        "trusted": true,
        "id": "E2xwds2RDbKr"
      },
      "execution_count": 38,
      "outputs": []
    },
    {
      "cell_type": "markdown",
      "source": [
        "***LOADING THE TRAINED MODEL***"
      ],
      "metadata": {
        "id": "FJ_ZSe7zDbKs"
      }
    },
    {
      "cell_type": "code",
      "source": [
        "loaded_model = pickle.load(open('stress_trained.sav','rb'))\n",
        "# Download the stress_trained.sav model "
      ],
      "metadata": {
        "execution": {
          "iopub.status.busy": "2023-05-24T08:31:02.465212Z",
          "iopub.status.idle": "2023-05-24T08:31:02.465618Z",
          "shell.execute_reply.started": "2023-05-24T08:31:02.465419Z",
          "shell.execute_reply": "2023-05-24T08:31:02.465438Z"
        },
        "trusted": true,
        "id": "Fl_IeoUYDbKu"
      },
      "execution_count": 39,
      "outputs": []
    },
    {
      "cell_type": "code",
      "source": [
        "# Evaluating\n",
        "\n",
        "input_data = (11.05,80.05,14) #300\n",
        "#changing the input data into numpy array\n",
        "id_np_array = np.asarray(input_data)\n",
        "id_reshaped = id_np_array.reshape(1,-1)\n",
        "\n",
        "prediction = classifier.predict(id_reshaped)\n",
        "print(prediction)\n",
        "\n",
        "if(prediction[0]==0):\n",
        "    print(\"Stress Level: LOW\")\n",
        "elif(prediction[0]==1):\n",
        "    print(\"Stress Level: MEDIUM\")\n",
        "else:\n",
        "    print(\"Stress Level: HIGH\")\n",
        "    \n",
        "input_data = (21.38,90.38,128) #100\n",
        "#changing the input data into numpy array\n",
        "id_np_array = np.asarray(input_data)\n",
        "id_reshaped = id_np_array.reshape(1,-1)\n",
        "\n",
        "prediction = classifier.predict(id_reshaped)\n",
        "print(prediction)\n",
        "\n",
        "if(prediction[0]==0):\n",
        "    print(\"Stress Level: LOW\")\n",
        "elif(prediction[0]==1):\n",
        "    print(\"Stress Level: MEDIUM\")\n",
        "else:\n",
        "    print(\"Stress Level: HIGH\")\n",
        "    \n",
        "input_data = (25.41,94.41,167) #200\n",
        "#changing the input data into numpy array\n",
        "id_np_array = np.asarray(input_data)\n",
        "id_reshaped = id_np_array.reshape(1,-1)\n",
        "\n",
        "prediction = classifier.predict(id_reshaped)\n",
        "print(prediction)\n",
        "\n",
        "if(prediction[0]==0):\n",
        "    print(\"Stress Level: LOW\")\n",
        "elif(prediction[0]==1):\n",
        "    print(\"Stress Level: MEDIUM\")\n",
        "else:\n",
        "    print(\"Stress Level: HIGH\")"
      ],
      "metadata": {
        "execution": {
          "iopub.status.busy": "2023-05-24T08:31:02.467850Z",
          "iopub.status.idle": "2023-05-24T08:31:02.468381Z",
          "shell.execute_reply.started": "2023-05-24T08:31:02.468166Z",
          "shell.execute_reply": "2023-05-24T08:31:02.468188Z"
        },
        "trusted": true,
        "colab": {
          "base_uri": "https://localhost:8080/"
        },
        "id": "UkiByWs0DbKu",
        "outputId": "3e5aee56-d7cb-46ff-e217-636e08546b9b"
      },
      "execution_count": 43,
      "outputs": [
        {
          "output_type": "stream",
          "name": "stdout",
          "text": [
            "[2]\n",
            "Stress Level: HIGH\n",
            "[2]\n",
            "Stress Level: HIGH\n",
            "[2]\n",
            "Stress Level: HIGH\n"
          ]
        }
      ]
    },
    {
      "cell_type": "code",
      "source": [
        "# File - Predictive System.py\n",
        "\n",
        "# Imports\n",
        "import numpy as np\n",
        "import pickle\n",
        "\n",
        "# Loading the trained model\n",
        "loaded_model = pickle.load(open('stress_trained.sav','rb'))\n",
        "# stress_trained.sav - replace the path of the file along with the file name\n",
        "# Example: loaded_model = pickle.load(open('C:/Users/jeyasri/Downloads/PROJECT/stress_trained.sav','rb'))\n",
        "\n",
        "\n",
        "\n",
        "input_data = (25.41,94.41,167) #200\n",
        "#changing the input data into numpy array\n",
        "id_np_array = np.asarray(input_data)\n",
        "id_reshaped = id_np_array.reshape(1,-1)\n",
        "\n",
        "prediction = loaded_model.predict(id_reshaped)\n",
        "print(prediction)\n",
        "\n",
        "if(prediction[0]==0):\n",
        "    print(\"Stress Level: LOW\")\n",
        "elif(prediction[0]==1):\n",
        "    print(\"Stress Level: MEDIUM\")\n",
        "else:\n",
        "    print(\"Stress Level: HIGH\")"
      ],
      "metadata": {
        "execution": {
          "iopub.status.busy": "2023-05-24T08:31:02.469638Z",
          "iopub.status.idle": "2023-05-24T08:31:02.470510Z",
          "shell.execute_reply.started": "2023-05-24T08:31:02.470249Z",
          "shell.execute_reply": "2023-05-24T08:31:02.470279Z"
        },
        "trusted": true,
        "colab": {
          "base_uri": "https://localhost:8080/"
        },
        "id": "LVMALCRsDbKv",
        "outputId": "91efe46a-dbaa-42e7-a9c7-f8e100c07a50"
      },
      "execution_count": 44,
      "outputs": [
        {
          "output_type": "stream",
          "name": "stdout",
          "text": [
            "[2]\n",
            "Stress Level: HIGH\n"
          ]
        }
      ]
    },
    {
      "cell_type": "code",
      "source": [
        "# Trying to install streamlit\n",
        "!pip install -q streamlit"
      ],
      "metadata": {
        "execution": {
          "iopub.status.busy": "2023-05-24T08:31:02.471885Z",
          "iopub.status.idle": "2023-05-24T08:31:02.472939Z",
          "shell.execute_reply.started": "2023-05-24T08:31:02.472685Z",
          "shell.execute_reply": "2023-05-24T08:31:02.472716Z"
        },
        "trusted": true,
        "colab": {
          "base_uri": "https://localhost:8080/"
        },
        "id": "9iTk_DmHDbKw",
        "outputId": "3cd9383d-31a8-4e58-dd05-88e06c98e1a9"
      },
      "execution_count": 45,
      "outputs": [
        {
          "output_type": "stream",
          "name": "stdout",
          "text": [
            "\u001b[2K     \u001b[90m━━━━━━━━━━━━━━━━━━━━━━━━━━━━━━━━━━━━━━━━\u001b[0m \u001b[32m8.9/8.9 MB\u001b[0m \u001b[31m65.8 MB/s\u001b[0m eta \u001b[36m0:00:00\u001b[0m\n",
            "\u001b[2K     \u001b[90m━━━━━━━━━━━━━━━━━━━━━━━━━━━━━━━━━━━━━━\u001b[0m \u001b[32m164.8/164.8 kB\u001b[0m \u001b[31m18.8 MB/s\u001b[0m eta \u001b[36m0:00:00\u001b[0m\n",
            "\u001b[?25h  Preparing metadata (setup.py) ... \u001b[?25l\u001b[?25hdone\n",
            "\u001b[2K     \u001b[90m━━━━━━━━━━━━━━━━━━━━━━━━━━━━━━━━━━━━━━\u001b[0m \u001b[32m184.3/184.3 kB\u001b[0m \u001b[31m18.6 MB/s\u001b[0m eta \u001b[36m0:00:00\u001b[0m\n",
            "\u001b[2K     \u001b[90m━━━━━━━━━━━━━━━━━━━━━━━━━━━━━━━━━━━━━━━━\u001b[0m \u001b[32m4.8/4.8 MB\u001b[0m \u001b[31m71.0 MB/s\u001b[0m eta \u001b[36m0:00:00\u001b[0m\n",
            "\u001b[2K     \u001b[90m━━━━━━━━━━━━━━━━━━━━━━━━━━━━━━━━━━━━━━━━\u001b[0m \u001b[32m82.1/82.1 kB\u001b[0m \u001b[31m10.2 MB/s\u001b[0m eta \u001b[36m0:00:00\u001b[0m\n",
            "\u001b[2K     \u001b[90m━━━━━━━━━━━━━━━━━━━━━━━━━━━━━━━━━━━━━━━━\u001b[0m \u001b[32m62.7/62.7 kB\u001b[0m \u001b[31m7.4 MB/s\u001b[0m eta \u001b[36m0:00:00\u001b[0m\n",
            "\u001b[?25h  Building wheel for validators (setup.py) ... \u001b[?25l\u001b[?25hdone\n"
          ]
        }
      ]
    },
    {
      "cell_type": "code",
      "source": [
        "import numpy as np\n",
        "import pickle\n",
        "import streamlit as st  \n",
        "\n",
        "# Loading the trained model\n",
        "loaded_model = pickle.load(open('stress_trained.sav','rb'))\n",
        "# Replace path over stress_trained.sav\n",
        "\n",
        "def stresslevel_prediction(input_data):\n",
        "    \n",
        "    #changing the input data into numpy array\n",
        "    id_np_array = np.asarray(input_data)\n",
        "    id_reshaped = id_np_array.reshape(1,-1)\n",
        "\n",
        "    prediction = loaded_model.predict(id_reshaped)\n",
        "    print(prediction)\n",
        "\n",
        "    if(prediction[0]==0):\n",
        "        return \"Stress Level: LOW\"\n",
        "    elif(prediction[0]==1):\n",
        "        return \"Stress Level: MEDIUM\"\n",
        "    else:\n",
        "        return \"Stress Level: HIGH\"\n",
        "    \n",
        "def main():\n",
        "    \n",
        "    st.title('STRESS LEVEL PREDICTION WEB APP')\n",
        "    \n",
        "    Humidity = st.text_input('Humidity Value')\n",
        "    Temperature = st.text_input('Body Temperature')\n",
        "    Step_count = st.text_input('Number of Steps')\n",
        "    \n",
        "    # Prediction code\n",
        "    diagnosis = ''\n",
        "    \n",
        "    if st.button('PREDICT'):\n",
        "        diagnosis = stresslevel_prediction([Humidity, Temperature, Step_count])\n",
        "        \n",
        "    st.success(diagnosis)\n",
        "    \n",
        "if __name__=='__main__':\n",
        "    main()"
      ],
      "metadata": {
        "execution": {
          "iopub.status.busy": "2023-05-24T08:31:02.475311Z",
          "iopub.status.idle": "2023-05-24T08:31:02.475718Z",
          "shell.execute_reply.started": "2023-05-24T08:31:02.475516Z",
          "shell.execute_reply": "2023-05-24T08:31:02.475535Z"
        },
        "trusted": true,
        "colab": {
          "base_uri": "https://localhost:8080/"
        },
        "id": "hRP6yYYCDbKw",
        "outputId": "1892abd0-d4c9-4683-c912-7e44ee925cdb"
      },
      "execution_count": 46,
      "outputs": [
        {
          "output_type": "stream",
          "name": "stderr",
          "text": [
            "2023-05-24 09:35:31.838 \n",
            "  \u001b[33m\u001b[1mWarning:\u001b[0m to view this Streamlit app on a browser, run it with the following\n",
            "  command:\n",
            "\n",
            "    streamlit run /usr/local/lib/python3.10/dist-packages/ipykernel_launcher.py [ARGUMENTS]\n"
          ]
        }
      ]
    },
    {
      "cell_type": "markdown",
      "source": [
        "**Go to command prompt open the terminal and execute the command.**\n",
        "\n",
        "streamlit run \"path of the file.py\"\n",
        "\n",
        "Example: streamlit run \"C:\\Users\\jeyasri\\Downloads\\PROJECT\\Stress Level Prediction Web App.py\""
      ],
      "metadata": {
        "id": "KKTZJHhtDbKw"
      }
    },
    {
      "cell_type": "markdown",
      "source": [
        "**Your final result will be like this...**"
      ],
      "metadata": {
        "id": "TpcVrK0wDbKx"
      }
    },
    {
      "cell_type": "markdown",
      "source": [
        "![Stress.png](attachment:dacc60b2-6304-4afe-b1ca-1ed750052edd.png)"
      ],
      "metadata": {
        "id": "zzxIiwL3DbKx"
      }
    }
  ]
}